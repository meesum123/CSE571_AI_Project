{
 "cells": [
  {
   "cell_type": "code",
   "execution_count": null,
   "id": "a73e523e-2ed3-4a85-857a-b9d4c52e7882",
   "metadata": {},
   "outputs": [],
   "source": [
    "#small map random ghost (list of scores, wins/10)\n",
    "absr = [2, 168, 1521, -5, -142, 74, 122, 1150, 1120, 289], 3\n",
    "emsr = [-389, 1619, 1224, 1495, 1548, 291, 1349, 1120, 1120, 1719], 8\n",
    "mcsr = [1077, 1151, 1326, 1326, 1349, 95, 1362, 1326, 1344, 1334], 9\n",
    "\n",
    "#small map directional ghost\n",
    "absd = [705, -365, -366, 701, 480, 91, 1332, 91, 233, 1758], 2\n",
    "emsd = [104, 1749, 720, -383, 323, 534, -376, 705, 696, 354], 2\n",
    "mcsd = [481, 1458, 219, 1289, -136, 280, 470, 1352, -28, 252], 3\n",
    "\n",
    "#medium map random ghost\n",
    "abmr = [1129, 1001, -849, 458, 1151, 289, -384, -93, -108, -786], 4\n",
    "emmr = [1931, -1051, -374, -633, 1152, 1595, 1554, -49, -272, -807], 7\n",
    "mcmr = [1642, 1490, 1908, 816, 1639, 1735, 1332, 1479, 1478, 1454], 9\n",
    "\n",
    "#medium map directional ghost\n",
    "abmd = [-324, 286, 134, 89, 2097, -321, 1014, -339, -324, 148], 1\n",
    "emmd = [144, 334, 617, 1703, 840, 511, -339, 502, 467, 837], 1\n",
    "mcmd = [1673, 1322, -401, 560, 1695, 375, 109, 638, 1309, 172], 4\n"
   ]
  },
  {
   "cell_type": "code",
   "execution_count": 27,
   "id": "64100cab-1283-4a34-9dce-55165ce9c6f3",
   "metadata": {},
   "outputs": [],
   "source": [
    "absr = [2, 168, 1521, -5, -142, 74, 122, 1150, 1120, 289]\n",
    "emsr = [-389, 1619, 1224, 1495, 1548, 291, 1349, 1120, 1120, 1719]\n",
    "mcsr = [1077, 1151, 1326, 1326, 1349, 95, 1362, 1326, 1344, 1334]\n",
    "absd = [705, -365, -366, 701, 480, 91, 1332, 91, 233, 1758]\n",
    "emsd = [104, 1749, 720, -383, 323, 534, -376, 705, 696, 354]\n",
    "mcsd = [481, 1458, 219, 1289, -136, 280, 470, 1352, -28, 252]\n",
    "abmr = [1129, 1001, -849, 458, 1151, 289, -384, -93, -108, -786]\n",
    "emmr = [1931, -1051, -374, -633, 1152, 1595, 1554, -49, -272, -807]\n",
    "mcmr = [1642, 1490, 1908, 816, 1639, 1735, 1332, 1479, 1478, 1454]\n",
    "abmd = [-324, 286, 134, 89, 2097, -321, 1014, -339, -324, 148]\n",
    "emmd = [144, 334, 617, 1703, 840, 511, -339, 502, 467, 837]\n",
    "mcmd = [1673, 1322, -401, 560, 1695, 375, 109, 638, 1309, 172]"
   ]
  },
  {
   "cell_type": "code",
   "execution_count": 34,
   "id": "58a2ee92-667f-4931-ac10-6755812349dc",
   "metadata": {},
   "outputs": [],
   "source": [
    "from tabulate import tabulate"
   ]
  },
  {
   "cell_type": "code",
   "execution_count": 29,
   "id": "0a960d15-a45f-4e80-9e85-7d2d9eff145f",
   "metadata": {},
   "outputs": [],
   "source": [
    "# Importing library\n",
    "from scipy.stats import f_oneway\n",
    "import scipy.stats as stats\n",
    "# Performance when each of the engine\n",
    "# oil is applied\n",
    "\n",
    "# Conduct the one-way ANOVA\n",
    "fsr = f_oneway(absr, emsr, mcsr)[1]\n",
    "fsd = f_oneway(absd, emsd, mcsd)[1]\n",
    "fmr = f_oneway(abmr, emmr, mcmr)[1]\n",
    "fmd = f_oneway(abmd, emmd, mcmd)[1]"
   ]
  },
  {
   "cell_type": "code",
   "execution_count": 39,
   "id": "76ae21be-3773-42b7-abbb-d0a56104b22a",
   "metadata": {},
   "outputs": [],
   "source": [
    "table = [['Small Map Random Ghost', fsr], ['Small Map Directional Ghost', fsd], ['Medium Map Random Ghost', fmr], ['Medium Map Directional Ghost', fmd]]"
   ]
  },
  {
   "cell_type": "code",
   "execution_count": 43,
   "id": "bcd18f8d-7a4a-479b-a751-6dd2ae4a0ead",
   "metadata": {},
   "outputs": [
    {
     "name": "stdout",
     "output_type": "stream",
     "text": [
      "╒══════════════════════════════╤══════════════╤═════════════╕\n",
      "│ Configuration/Score          │   Expectimax │   AlphaBeta │\n",
      "╞══════════════════════════════╪══════════════╪═════════════╡\n",
      "│ Small Map Random Ghost       │   0.809781   │ 0.00412272  │\n",
      "├──────────────────────────────┼──────────────┼─────────────┤\n",
      "│ Small Map Directional Ghost  │   0.657954   │ 0.736386    │\n",
      "├──────────────────────────────┼──────────────┼─────────────┤\n",
      "│ Medium Map Random Ghost      │   0.00457663 │ 6.42753e-05 │\n",
      "├──────────────────────────────┼──────────────┼─────────────┤\n",
      "│ Medium Map Directional Ghost │   0.523168   │ 0.151981    │\n",
      "╘══════════════════════════════╧══════════════╧═════════════╛\n"
     ]
    }
   ],
   "source": [
    "print(tabulate(table, headers=['Configuration/Score', 'Expectimax', 'AlphaBeta'], tablefmt=\"fancy_grid\"))"
   ]
  },
  {
   "cell_type": "code",
   "execution_count": 36,
   "id": "7bd61ec7-e7db-45f3-b5ae-53bbbfecb22d",
   "metadata": {},
   "outputs": [],
   "source": [
    "tsr = stats.ttest_ind(mcsr, emsr)[1]\n",
    "tsd = stats.ttest_ind(mcsd, emsd)[1]\n",
    "tmr = stats.ttest_ind(mcmr, emmr)[1]\n",
    "tmd = stats.ttest_ind(mcmd, emmd)[1]"
   ]
  },
  {
   "cell_type": "code",
   "execution_count": 42,
   "id": "0eddb64f-1a4b-4ad4-b76f-f4e483ca14e8",
   "metadata": {},
   "outputs": [],
   "source": [
    "table = [['Small Map Random Ghost',tsr,tsr1], ['Small Map Directional Ghost',tsd, tsd1], ['Medium Map Random Ghost',tmr, tmr1], ['Medium Map Directional Ghost',tmd, tmd1]]"
   ]
  },
  {
   "cell_type": "code",
   "execution_count": 41,
   "id": "51b49b6c-ec61-40b5-b67a-5fa6a61ea706",
   "metadata": {},
   "outputs": [],
   "source": [
    "tsr1 = stats.ttest_ind(mcsr, absr)[1]\n",
    "tsd1 = stats.ttest_ind(mcsd, absd)[1]\n",
    "tmr1 = stats.ttest_ind(mcmr, abmr)[1]\n",
    "tmd1 = stats.ttest_ind(mcmd, abmd)[1]"
   ]
  },
  {
   "cell_type": "code",
   "execution_count": null,
   "id": "e6db4b92-055a-4341-ba2d-7cdd87383691",
   "metadata": {},
   "outputs": [],
   "source": [
    "#small map (space in bytes, time)\n",
    "abs = [1648451, 0.19568324089050293]\n",
    "ems = [5143229, 1.6407434940338135]\n",
    "mcs = [6051430, 0.5649275779724121]\n",
    "\n",
    "#medium map\n",
    "abm = [1613707, 0.2590949535369873]\n",
    "emm = [5070193, 2.1905734539031982]\n",
    "mcm = [6631694, 0.7111968994140625]\n",
    "\n",
    "#mriginal map\n",
    "abo = [28945766, 12.671876430511475]\n",
    "emo = [107267242, 152.2106101512909]\n",
    "mco = [6750544, 1.1107177734375]"
   ]
  }
 ],
 "metadata": {
  "kernelspec": {
   "display_name": "Python 3 (ipykernel)",
   "language": "python",
   "name": "python3"
  },
  "language_info": {
   "codemirror_mode": {
    "name": "ipython",
    "version": 3
   },
   "file_extension": ".py",
   "mimetype": "text/x-python",
   "name": "python",
   "nbconvert_exporter": "python",
   "pygments_lexer": "ipython3",
   "version": "3.10.6"
  }
 },
 "nbformat": 4,
 "nbformat_minor": 5
}
